{
 "cells": [
  {
   "cell_type": "code",
   "execution_count": null,
   "id": "95100b5a",
   "metadata": {},
   "outputs": [],
   "source": [
    "import pandas as pd\n",
    "import numpy as np\n",
    "seed = 42"
   ]
  },
  {
   "cell_type": "markdown",
   "id": "4125d38f",
   "metadata": {},
   "source": [
    "## Obtener los datos del \"Credit Approval Dataset\""
   ]
  },
  {
   "cell_type": "code",
   "execution_count": 75,
   "id": "c8275201",
   "metadata": {},
   "outputs": [
    {
     "data": {
      "text/html": [
       "<div>\n",
       "<style scoped>\n",
       "    .dataframe tbody tr th:only-of-type {\n",
       "        vertical-align: middle;\n",
       "    }\n",
       "\n",
       "    .dataframe tbody tr th {\n",
       "        vertical-align: top;\n",
       "    }\n",
       "\n",
       "    .dataframe thead th {\n",
       "        text-align: right;\n",
       "    }\n",
       "</style>\n",
       "<table border=\"1\" class=\"dataframe\">\n",
       "  <thead>\n",
       "    <tr style=\"text-align: right;\">\n",
       "      <th></th>\n",
       "      <th>A1</th>\n",
       "      <th>A2</th>\n",
       "      <th>A3</th>\n",
       "      <th>A4</th>\n",
       "      <th>A5</th>\n",
       "      <th>A6</th>\n",
       "      <th>A7</th>\n",
       "      <th>A8</th>\n",
       "      <th>A9</th>\n",
       "      <th>A10</th>\n",
       "      <th>A11</th>\n",
       "      <th>A12</th>\n",
       "      <th>A13</th>\n",
       "      <th>A14</th>\n",
       "      <th>A15</th>\n",
       "      <th>Class</th>\n",
       "    </tr>\n",
       "  </thead>\n",
       "  <tbody>\n",
       "    <tr>\n",
       "      <th>0</th>\n",
       "      <td>b</td>\n",
       "      <td>3083.0</td>\n",
       "      <td>0.0</td>\n",
       "      <td>u</td>\n",
       "      <td>g</td>\n",
       "      <td>w</td>\n",
       "      <td>v</td>\n",
       "      <td>125.0</td>\n",
       "      <td>t</td>\n",
       "      <td>t</td>\n",
       "      <td>1</td>\n",
       "      <td>f</td>\n",
       "      <td>g</td>\n",
       "      <td>202.0</td>\n",
       "      <td>0</td>\n",
       "      <td>positive</td>\n",
       "    </tr>\n",
       "    <tr>\n",
       "      <th>1</th>\n",
       "      <td>a</td>\n",
       "      <td>5867.0</td>\n",
       "      <td>446.0</td>\n",
       "      <td>u</td>\n",
       "      <td>g</td>\n",
       "      <td>q</td>\n",
       "      <td>h</td>\n",
       "      <td>304.0</td>\n",
       "      <td>t</td>\n",
       "      <td>t</td>\n",
       "      <td>6</td>\n",
       "      <td>f</td>\n",
       "      <td>g</td>\n",
       "      <td>43.0</td>\n",
       "      <td>560</td>\n",
       "      <td>positive</td>\n",
       "    </tr>\n",
       "    <tr>\n",
       "      <th>2</th>\n",
       "      <td>a</td>\n",
       "      <td>245.0</td>\n",
       "      <td>5.0</td>\n",
       "      <td>u</td>\n",
       "      <td>g</td>\n",
       "      <td>q</td>\n",
       "      <td>h</td>\n",
       "      <td>15.0</td>\n",
       "      <td>t</td>\n",
       "      <td>f</td>\n",
       "      <td>0</td>\n",
       "      <td>f</td>\n",
       "      <td>g</td>\n",
       "      <td>280.0</td>\n",
       "      <td>824</td>\n",
       "      <td>positive</td>\n",
       "    </tr>\n",
       "    <tr>\n",
       "      <th>3</th>\n",
       "      <td>b</td>\n",
       "      <td>2783.0</td>\n",
       "      <td>154.0</td>\n",
       "      <td>u</td>\n",
       "      <td>g</td>\n",
       "      <td>w</td>\n",
       "      <td>v</td>\n",
       "      <td>375.0</td>\n",
       "      <td>t</td>\n",
       "      <td>t</td>\n",
       "      <td>5</td>\n",
       "      <td>t</td>\n",
       "      <td>g</td>\n",
       "      <td>100.0</td>\n",
       "      <td>3</td>\n",
       "      <td>positive</td>\n",
       "    </tr>\n",
       "    <tr>\n",
       "      <th>4</th>\n",
       "      <td>b</td>\n",
       "      <td>2017.0</td>\n",
       "      <td>5625.0</td>\n",
       "      <td>u</td>\n",
       "      <td>g</td>\n",
       "      <td>w</td>\n",
       "      <td>v</td>\n",
       "      <td>171.0</td>\n",
       "      <td>t</td>\n",
       "      <td>f</td>\n",
       "      <td>0</td>\n",
       "      <td>f</td>\n",
       "      <td>s</td>\n",
       "      <td>120.0</td>\n",
       "      <td>0</td>\n",
       "      <td>positive</td>\n",
       "    </tr>\n",
       "  </tbody>\n",
       "</table>\n",
       "</div>"
      ],
      "text/plain": [
       "  A1      A2      A3  A4  A5  A6  A7     A8  A9  A10   A11  A12  A13    A14  \\\n",
       "0  b  3083.0     0.0   u   g   w   v  125.0   t    t     1    f    g  202.0   \n",
       "1  a  5867.0   446.0   u   g   q   h  304.0   t    t     6    f    g   43.0   \n",
       "2  a   245.0     5.0   u   g   q   h   15.0   t    f     0    f    g  280.0   \n",
       "3  b  2783.0   154.0   u   g   w   v  375.0   t    t     5    t    g  100.0   \n",
       "4  b  2017.0  5625.0   u   g   w   v  171.0   t    f     0    f    s  120.0   \n",
       "\n",
       "    A15     Class  \n",
       "0     0  positive  \n",
       "1   560  positive  \n",
       "2   824  positive  \n",
       "3     3  positive  \n",
       "4     0  positive  "
      ]
     },
     "execution_count": 75,
     "metadata": {},
     "output_type": "execute_result"
    }
   ],
   "source": [
    "ruta = \"/home/jair/Escritorio/Tec. Av. Patrones/Tareas/Tarea1/datasets/crx.csv\"\n",
    "df = pd.read_csv(ruta, na_values = '?')\n",
    "df.head()"
   ]
  },
  {
   "cell_type": "code",
   "execution_count": 76,
   "id": "29e6d82e",
   "metadata": {},
   "outputs": [
    {
     "data": {
      "text/plain": [
       "(690, 16)"
      ]
     },
     "execution_count": 76,
     "metadata": {},
     "output_type": "execute_result"
    }
   ],
   "source": [
    "df.shape\n",
    "# 690 vectores\n",
    "# 15 características"
   ]
  },
  {
   "cell_type": "markdown",
   "id": "b3beaac9",
   "metadata": {},
   "source": [
    "## Limpieza de repetidos e indiscernibles  "
   ]
  },
  {
   "cell_type": "code",
   "execution_count": null,
   "id": "4cefb263",
   "metadata": {},
   "outputs": [],
   "source": [
    "# nulos\n",
    "df = df.dropna()\n",
    "\n",
    "# repetidos\n",
    "df = df.drop_duplicates(keep = 'first')\n",
    "\n",
    "# indiscernibles\n",
    "características = df.drop(' Class', axis = 1)\n",
    "df = df[~df.duplicated(subset = características, keep = False)]"
   ]
  },
  {
   "cell_type": "code",
   "execution_count": 78,
   "id": "6e743f6d",
   "metadata": {},
   "outputs": [
    {
     "data": {
      "text/plain": [
       "(653, 16)"
      ]
     },
     "execution_count": 78,
     "metadata": {},
     "output_type": "execute_result"
    }
   ],
   "source": [
    "df.shape\n",
    "# 653 vectores\n",
    "# 15 características\n",
    "# Se eliminaron 59 vectores"
   ]
  },
  {
   "cell_type": "code",
   "execution_count": 79,
   "id": "6f0a145d",
   "metadata": {},
   "outputs": [
    {
     "data": {
      "text/html": [
       "<div>\n",
       "<style scoped>\n",
       "    .dataframe tbody tr th:only-of-type {\n",
       "        vertical-align: middle;\n",
       "    }\n",
       "\n",
       "    .dataframe tbody tr th {\n",
       "        vertical-align: top;\n",
       "    }\n",
       "\n",
       "    .dataframe thead th {\n",
       "        text-align: right;\n",
       "    }\n",
       "</style>\n",
       "<table border=\"1\" class=\"dataframe\">\n",
       "  <thead>\n",
       "    <tr style=\"text-align: right;\">\n",
       "      <th></th>\n",
       "      <th>A1</th>\n",
       "      <th>A2</th>\n",
       "      <th>A3</th>\n",
       "      <th>A4</th>\n",
       "      <th>A5</th>\n",
       "      <th>A6</th>\n",
       "      <th>A7</th>\n",
       "      <th>A8</th>\n",
       "      <th>A9</th>\n",
       "      <th>A10</th>\n",
       "      <th>A11</th>\n",
       "      <th>A12</th>\n",
       "      <th>A13</th>\n",
       "      <th>A14</th>\n",
       "      <th>A15</th>\n",
       "      <th>Class</th>\n",
       "    </tr>\n",
       "  </thead>\n",
       "  <tbody>\n",
       "    <tr>\n",
       "      <th>0</th>\n",
       "      <td>b</td>\n",
       "      <td>3083.0</td>\n",
       "      <td>0.0</td>\n",
       "      <td>u</td>\n",
       "      <td>g</td>\n",
       "      <td>w</td>\n",
       "      <td>v</td>\n",
       "      <td>125.0</td>\n",
       "      <td>t</td>\n",
       "      <td>t</td>\n",
       "      <td>1</td>\n",
       "      <td>f</td>\n",
       "      <td>g</td>\n",
       "      <td>202.0</td>\n",
       "      <td>0</td>\n",
       "      <td>positive</td>\n",
       "    </tr>\n",
       "    <tr>\n",
       "      <th>1</th>\n",
       "      <td>a</td>\n",
       "      <td>5867.0</td>\n",
       "      <td>446.0</td>\n",
       "      <td>u</td>\n",
       "      <td>g</td>\n",
       "      <td>q</td>\n",
       "      <td>h</td>\n",
       "      <td>304.0</td>\n",
       "      <td>t</td>\n",
       "      <td>t</td>\n",
       "      <td>6</td>\n",
       "      <td>f</td>\n",
       "      <td>g</td>\n",
       "      <td>43.0</td>\n",
       "      <td>560</td>\n",
       "      <td>positive</td>\n",
       "    </tr>\n",
       "    <tr>\n",
       "      <th>2</th>\n",
       "      <td>a</td>\n",
       "      <td>245.0</td>\n",
       "      <td>5.0</td>\n",
       "      <td>u</td>\n",
       "      <td>g</td>\n",
       "      <td>q</td>\n",
       "      <td>h</td>\n",
       "      <td>15.0</td>\n",
       "      <td>t</td>\n",
       "      <td>f</td>\n",
       "      <td>0</td>\n",
       "      <td>f</td>\n",
       "      <td>g</td>\n",
       "      <td>280.0</td>\n",
       "      <td>824</td>\n",
       "      <td>positive</td>\n",
       "    </tr>\n",
       "    <tr>\n",
       "      <th>3</th>\n",
       "      <td>b</td>\n",
       "      <td>2783.0</td>\n",
       "      <td>154.0</td>\n",
       "      <td>u</td>\n",
       "      <td>g</td>\n",
       "      <td>w</td>\n",
       "      <td>v</td>\n",
       "      <td>375.0</td>\n",
       "      <td>t</td>\n",
       "      <td>t</td>\n",
       "      <td>5</td>\n",
       "      <td>t</td>\n",
       "      <td>g</td>\n",
       "      <td>100.0</td>\n",
       "      <td>3</td>\n",
       "      <td>positive</td>\n",
       "    </tr>\n",
       "    <tr>\n",
       "      <th>4</th>\n",
       "      <td>b</td>\n",
       "      <td>2017.0</td>\n",
       "      <td>5625.0</td>\n",
       "      <td>u</td>\n",
       "      <td>g</td>\n",
       "      <td>w</td>\n",
       "      <td>v</td>\n",
       "      <td>171.0</td>\n",
       "      <td>t</td>\n",
       "      <td>f</td>\n",
       "      <td>0</td>\n",
       "      <td>f</td>\n",
       "      <td>s</td>\n",
       "      <td>120.0</td>\n",
       "      <td>0</td>\n",
       "      <td>positive</td>\n",
       "    </tr>\n",
       "  </tbody>\n",
       "</table>\n",
       "</div>"
      ],
      "text/plain": [
       "  A1      A2      A3  A4  A5  A6  A7     A8  A9  A10   A11  A12  A13    A14  \\\n",
       "0  b  3083.0     0.0   u   g   w   v  125.0   t    t     1    f    g  202.0   \n",
       "1  a  5867.0   446.0   u   g   q   h  304.0   t    t     6    f    g   43.0   \n",
       "2  a   245.0     5.0   u   g   q   h   15.0   t    f     0    f    g  280.0   \n",
       "3  b  2783.0   154.0   u   g   w   v  375.0   t    t     5    t    g  100.0   \n",
       "4  b  2017.0  5625.0   u   g   w   v  171.0   t    f     0    f    s  120.0   \n",
       "\n",
       "    A15     Class  \n",
       "0     0  positive  \n",
       "1   560  positive  \n",
       "2   824  positive  \n",
       "3     3  positive  \n",
       "4     0  positive  "
      ]
     },
     "execution_count": 79,
     "metadata": {},
     "output_type": "execute_result"
    }
   ],
   "source": [
    "df.head()"
   ]
  },
  {
   "cell_type": "markdown",
   "id": "0be36148",
   "metadata": {},
   "source": [
    "## Separar numéricas y categóricas"
   ]
  },
  {
   "cell_type": "code",
   "execution_count": 80,
   "id": "6f9eff7d",
   "metadata": {},
   "outputs": [
    {
     "data": {
      "text/plain": [
       "Index(['A1', ' A2', ' A3', ' A4', ' A5', ' A6', ' A7', ' A8', ' A9', ' A10',\n",
       "       ' A11', ' A12', ' A13', ' A14', ' A15', ' Class'],\n",
       "      dtype='object')"
      ]
     },
     "execution_count": 80,
     "metadata": {},
     "output_type": "execute_result"
    }
   ],
   "source": [
    "df.columns"
   ]
  },
  {
   "cell_type": "code",
   "execution_count": 81,
   "id": "432b365b",
   "metadata": {},
   "outputs": [
    {
     "data": {
      "text/plain": [
       "Index(['A1', 'A2', 'A3', 'A4', 'A5', 'A6', 'A7', 'A8', 'A9', 'A10', 'A11',\n",
       "       'A12', 'A13', 'A14', 'A15', 'Class'],\n",
       "      dtype='object')"
      ]
     },
     "execution_count": 81,
     "metadata": {},
     "output_type": "execute_result"
    }
   ],
   "source": [
    "# Tienen un espacio los nombres de las oclumnas\n",
    "df.columns = df.columns.str.strip()\n",
    "df.columns"
   ]
  },
  {
   "cell_type": "code",
   "execution_count": 84,
   "id": "d58e8365",
   "metadata": {},
   "outputs": [
    {
     "data": {
      "text/plain": [
       "['A2', 'A3', 'A8', 'A11', 'A14', 'A15']"
      ]
     },
     "execution_count": 84,
     "metadata": {},
     "output_type": "execute_result"
    }
   ],
   "source": [
    "numericos = ['A2','A3','A8','A11','A14','A15']\n",
    "numericos"
   ]
  },
  {
   "cell_type": "code",
   "execution_count": 85,
   "id": "409ec6d3",
   "metadata": {},
   "outputs": [
    {
     "data": {
      "text/plain": [
       "['A1', 'A4', 'A5', 'A6', 'A7', 'A9', 'A10', 'A12', 'A13']"
      ]
     },
     "execution_count": 85,
     "metadata": {},
     "output_type": "execute_result"
    }
   ],
   "source": [
    "categoricos = [col for col in df.columns if col not in numericos and col != 'Class']\n",
    "categoricos"
   ]
  },
  {
   "cell_type": "markdown",
   "id": "37dba9eb",
   "metadata": {},
   "source": [
    "## Corregir formato de numéricos y categóricos"
   ]
  },
  {
   "cell_type": "code",
   "execution_count": 90,
   "id": "0cfc224c",
   "metadata": {},
   "outputs": [
    {
     "data": {
      "text/plain": [
       "A1     object\n",
       "A4     object\n",
       "A5     object\n",
       "A6     object\n",
       "A7     object\n",
       "A9     object\n",
       "A10    object\n",
       "A12    object\n",
       "A13    object\n",
       "dtype: object"
      ]
     },
     "execution_count": 90,
     "metadata": {},
     "output_type": "execute_result"
    }
   ],
   "source": [
    "df_num = df[numericos].astype(float)\n",
    "df_cat = df[categoricos].astype(str)\n",
    "df_cat.dtypes"
   ]
  },
  {
   "cell_type": "markdown",
   "id": "37c0a59d",
   "metadata": {},
   "source": [
    "## Hold Out Estratificado"
   ]
  },
  {
   "cell_type": "code",
   "execution_count": null,
   "id": "efd86f93",
   "metadata": {},
   "outputs": [],
   "source": [
    "def hold_out_estratificado(df, proporcion = 0.8, target_col = 'Class'):\n",
    "\n",
    "    clases = df[target_col].unique()\n",
    "    train_list = []\n",
    "    test_list = []\n",
    "\n",
    "    for clase in clases:\n",
    "        # Crear un datarame para cada clase del df\n",
    "        df_clase = df[df[target_col] == clase].reset_index(drop = True)\n",
    "        n_filas = int(len(df_clase) * proporcion)\n",
    "\n",
    "        # Ya se separo la clase pero hay que mezclar todo\n",
    "        df_clase =df_clase.sample(frac = 1, random_state = seed).reset_index(drop = True)\n",
    "\n",
    "        # Del df de cada clase mandar las partes a entrenaniento y a prueba\n",
    "        train_list.append(df_clase.iloc[:n_filas, :]) # primer 80%\n",
    "        test_list.append(df_clase.iloc[n_filas:, :])  # ultimo 20%\n",
    "\n",
    "    # Generar los dataframes finales\n",
    "    train_df = pd.concat(train_list).reset_index(drop = True)\n",
    "    test_df = pd.concat(test_list).reset_index(drop = True)\n",
    "\n",
    "    # Ya quedó unido pero puede tener orden y volvemos a mezclar\n",
    "    train_df = train_df.sample(frac=1, random_state = seed)\n",
    "    test_df = test_df.sample(frac = 1, random_state = seed)\n",
    "\n",
    "    # separar X_train, X_Test, Y_train, Y_test\n",
    "    X_Train = train_df.drop(columns = target_col, axis = 1)\n",
    "    Y_Train = train_df[target_col]\n",
    "    X_Test = test_df.drop(columns = target_col, axis = 1) \n",
    "    Y_Test = test_df[target_col]\n",
    "\n",
    "    return X_Train, Y_Train, X_Test, Y_Test"
   ]
  }
 ],
 "metadata": {
  "kernelspec": {
   "display_name": "CIP",
   "language": "python",
   "name": "python3"
  },
  "language_info": {
   "codemirror_mode": {
    "name": "ipython",
    "version": 3
   },
   "file_extension": ".py",
   "mimetype": "text/x-python",
   "name": "python",
   "nbconvert_exporter": "python",
   "pygments_lexer": "ipython3",
   "version": "3.11.11"
  }
 },
 "nbformat": 4,
 "nbformat_minor": 5
}
